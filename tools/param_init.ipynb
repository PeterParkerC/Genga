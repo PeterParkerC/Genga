{
 "cells": [
  {
   "cell_type": "code",
   "execution_count": 1,
   "id": "be66f07d-b129-477e-b8a2-304b899194f7",
   "metadata": {},
   "outputs": [],
   "source": [
    "import numpy as np\n",
    "import random\n",
    "import matplotlib.pyplot as plt"
   ]
  },
  {
   "cell_type": "code",
   "execution_count": 114,
   "id": "0e6fad96-48f8-4691-8122-1440e901c886",
   "metadata": {},
   "outputs": [],
   "source": [
    "Total_mass = 5. #Earth_mass\n",
    "Mass_Earth = 3.003e-6 #Solar_mass\n",
    "powers = np.arange(11, 17, 1)\n",
    "Ns = [2 ** power for power in powers]\n",
    "Jupyter = ['0', 5.20336301, 0.04839266, 1.30530, 100.55615, 14.75385, 34.40438, 954.79194e-6]\n",
    "Saturn = ['1', 9.53707032, 0.05415060, 2.48446, 113.71504, 92.43194, 49.94432, 285.8860e-6]\n",
    "planets = np.array([Jupyter, Saturn])\n",
    "paths = [str(N) for N in Ns]\n",
    "filenames = ['%s/initial%s.dat' %(path, path) for path in paths]\n",
    "\n",
    "\n",
    "# data = np.zeros(num, dtype=dtype)\n",
    "\n",
    "for N, filename in zip(Ns, filenames):\n",
    "    i, a, e, inc, m, O, w, M = (np.zeros(N) for i in range(8))\n",
    "    i = [str(j) for j in np.arange(2, N+2, 1)]\n",
    "    m = np.ones(N) * Total_mass * Mass_Earth / N\n",
    "    e = [round(random.uniform(0., 0.001), 9) for i in e]\n",
    "    inc = [round(random.uniform(0., 0.2), 9) for i in inc]\n",
    "    O, w, M = ([round(random.uniform(0., 2 * np.pi), 9) for i in O] for j in range (3))\n",
    "    a = [round(random.uniform(0.5, 4.), 9) for i in a]\n",
    "    \n",
    "    planetestimal = np.array([i, a, e, inc, O, w, M, m]).T\n",
    "    full_list = np.append(planetestimal, planets, axis = 0)\n",
    "    np.savetxt(filename, planetestimal, fmt='%s')\n",
    "\n"
   ]
  },
  {
   "cell_type": "code",
   "execution_count": 127,
   "id": "eff9dfa3-5a6c-4a31-9403-7c6362197474",
   "metadata": {},
   "outputs": [
    {
     "data": {
      "text/plain": [
       "array(['0', '5.20336301', '0.04839266', '1.3053', '100.55615', '14.75385',\n",
       "       '34.40438', '0.00095479194'], dtype='<U32')"
      ]
     },
     "execution_count": 127,
     "metadata": {},
     "output_type": "execute_result"
    }
   ],
   "source": [
    "planets[0]"
   ]
  },
  {
   "cell_type": "code",
   "execution_count": 128,
   "id": "6f61b10e-ba70-48fe-8941-1628d511664b",
   "metadata": {},
   "outputs": [
    {
     "data": {
      "text/plain": [
       "array(['1', '9.53707032', '0.0541506', '2.48446', '113.71504', '92.43194',\n",
       "       '49.94432', '0.000285886'], dtype='<U32')"
      ]
     },
     "execution_count": 128,
     "metadata": {},
     "output_type": "execute_result"
    }
   ],
   "source": [
    "full_list[-1]"
   ]
  },
  {
   "cell_type": "code",
   "execution_count": 9,
   "id": "a937dff7-0df5-4483-9af4-f6a8149fcc3a",
   "metadata": {
    "tags": []
   },
   "outputs": [
    {
     "data": {
      "text/plain": [
       "(0.5000048294909064, 1.999996265790001)"
      ]
     },
     "execution_count": 9,
     "metadata": {},
     "output_type": "execute_result"
    },
    {
     "data": {
      "image/png": "[encoded data removed]",
      "text/plain": [
       "<Figure size 432x288 with 1 Axes>"
      ]
     },
     "metadata": {
      "needs_background": "light"
     },
     "output_type": "display_data"
    }
   ],
   "source": [
    "def inverse_r_cdf(x):\n",
    "    return (np.log(x) + np.log(2)) / (2 * np.log(2))\n",
    "    \n",
    "from scipy import interpolate\n",
    "x = np.linspace(0.5, 2, 3000)\n",
    "icdf = interpolate.interp1d(inverse_r_cdf(x), x, kind = 'linear')\n",
    "x_new = np.linspace(0,1,100)\n",
    "plt.plot(x_new, icdf(x_new))\n",
    "data = [round(random.uniform(0., 1.), 9) for i in a]\n",
    "a_final = icdf(data)\n",
    "plt.hist(a_final)\n",
    "min(a_final), max(a_final)"
   ]
  }
 ],
 "metadata": {
  "kernelspec": {
   "display_name": "myenv",
   "language": "python",
   "name": "myenv"
  },
  "language_info": {
   "codemirror_mode": {
    "name": "ipython",
    "version": 3
   },
   "file_extension": ".py",
   "mimetype": "text/x-python",
   "name": "python",
   "nbconvert_exporter": "python",
   "pygments_lexer": "ipython3",
   "version": "3.8.12"
  }
 },
 "nbformat": 4,
 "nbformat_minor": 5
}
