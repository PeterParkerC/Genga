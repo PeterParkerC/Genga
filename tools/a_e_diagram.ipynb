{
 "cells": [
  {
   "cell_type": "code",
   "execution_count": 1,
   "metadata": {},
   "outputs": [],
   "source": [
    "import pandas as pd\n",
    "import numpy as np\n",
    "import matplotlib.pyplot as plt\n",
    "import glob\n",
    "import os\n",
    "import cv2\n",
    "import ffmpeg\n",
    "import seaborn as sns\n",
    "%matplotlib inline\n",
    "%config InlineBackend.figure_format='retina'"
   ]
  },
  {
   "cell_type": "code",
   "execution_count": 2,
   "metadata": {},
   "outputs": [
    {
     "data": {
      "text/plain": [
       "(0, 0, 0)"
      ]
     },
     "execution_count": 2,
     "metadata": {},
     "output_type": "execute_result"
    }
   ],
   "source": [
    "local = os.getcwd()\n",
    "path_aei = local + '/aei/aei*'\n",
    "path_Carti = local + '/Output_file/Outin*'\n",
    "path_Count = local + '/aeCount/aeCount*'\n",
    "filenames_aei = sorted(glob.glob(path_aei))\n",
    "filenames_Carti = sorted(glob.glob(path_Carti))\n",
    "filenames_Count = sorted(glob.glob(path_Count))\n",
    "len(filenames_aei), len(filenames_Carti), len(filenames_Count)"
   ]
  },
  {
   "cell_type": "code",
   "execution_count": 3,
   "metadata": {},
   "outputs": [
    {
     "data": {
      "text/plain": [
       "(0, 0, 0)"
      ]
     },
     "execution_count": 3,
     "metadata": {},
     "output_type": "execute_result"
    }
   ],
   "source": [
    "batch_no = 3\n",
    "figures_aei_output = filenames_aei[::batch_no]\n",
    "figures_Carti_output = filenames_Carti[::batch_no]\n",
    "figures_Count_output = filenames_Count[::batch_no]\n",
    "\n",
    "len(figures_aei_output), len(figures_Carti_output), len(figures_Count_output)"
   ]
  },
  {
   "cell_type": "code",
   "execution_count": 4,
   "metadata": {
    "scrolled": true,
    "tags": []
   },
   "outputs": [],
   "source": [
    "# for step, figures_Count in enumerate(figures_Count_output):\n",
    "#     data = np.loadtxt(figures_Count)\n",
    "#     ae1 = data[0:250]\n",
    "#     plt.figure(figsize=(8, 6), dpi=80)\n",
    "#     ax = sns.heatmap(ae1)\n",
    "#     # ax.set_xlim(0,120)\n",
    "#     # ax.set_ylim(0,56)\n",
    "#     ax.invert_yaxis()\n",
    "#     plt.show()"
   ]
  },
  {
   "cell_type": "code",
   "execution_count": 5,
   "metadata": {
    "collapsed": true,
    "jupyter": {
     "outputs_hidden": true
    },
    "tags": []
   },
   "outputs": [
    {
     "ename": "IndexError",
     "evalue": "list index out of range",
     "output_type": "error",
     "traceback": [
      "\u001b[0;31m---------------------------------------------------------------------------\u001b[0m",
      "\u001b[0;31mIndexError\u001b[0m                                Traceback (most recent call last)",
      "Input \u001b[0;32mIn [5]\u001b[0m, in \u001b[0;36m<module>\u001b[0;34m\u001b[0m\n\u001b[0;32m----> 1\u001b[0m df \u001b[38;5;241m=\u001b[39m pd\u001b[38;5;241m.\u001b[39mread_table(\u001b[43mfigures_aei_output\u001b[49m\u001b[43m[\u001b[49m\u001b[38;5;241;43m0\u001b[39;49m\u001b[43m]\u001b[49m, sep \u001b[38;5;241m=\u001b[39m (\u001b[38;5;124m'\u001b[39m\u001b[38;5;124m\\\u001b[39m\u001b[38;5;124ms+\u001b[39m\u001b[38;5;124m'\u001b[39m), names \u001b[38;5;241m=\u001b[39m [\u001b[38;5;124m'\u001b[39m\u001b[38;5;124mtime\u001b[39m\u001b[38;5;124m'\u001b[39m, \u001b[38;5;124m'\u001b[39m\u001b[38;5;124mi\u001b[39m\u001b[38;5;124m'\u001b[39m, \u001b[38;5;124m'\u001b[39m\u001b[38;5;124ma\u001b[39m\u001b[38;5;124m'\u001b[39m, \u001b[38;5;124m'\u001b[39m\u001b[38;5;124me\u001b[39m\u001b[38;5;124m'\u001b[39m, \u001b[38;5;124m'\u001b[39m\u001b[38;5;124minc\u001b[39m\u001b[38;5;124m'\u001b[39m, \u001b[38;5;124m'\u001b[39m\u001b[38;5;124mOmega\u001b[39m\u001b[38;5;124m'\u001b[39m, \u001b[38;5;124m'\u001b[39m\u001b[38;5;124mw\u001b[39m\u001b[38;5;124m'\u001b[39m, \u001b[38;5;124m'\u001b[39m\u001b[38;5;124mTheta\u001b[39m\u001b[38;5;124m'\u001b[39m, \u001b[38;5;124m'\u001b[39m\u001b[38;5;124mE\u001b[39m\u001b[38;5;124m'\u001b[39m, \u001b[38;5;124m'\u001b[39m\u001b[38;5;124mM\u001b[39m\u001b[38;5;124m'\u001b[39m, \u001b[38;5;124m'\u001b[39m\u001b[38;5;124mm\u001b[39m\u001b[38;5;124m'\u001b[39m, \u001b[38;5;124m'\u001b[39m\u001b[38;5;124mr\u001b[39m\u001b[38;5;124m'\u001b[39m])\n\u001b[1;32m      2\u001b[0m sort \u001b[38;5;241m=\u001b[39m df\u001b[38;5;241m.\u001b[39msort_values(by \u001b[38;5;241m=\u001b[39m [\u001b[38;5;124m'\u001b[39m\u001b[38;5;124ma\u001b[39m\u001b[38;5;124m'\u001b[39m])\u001b[38;5;241m.\u001b[39mreset_index(drop\u001b[38;5;241m=\u001b[39m\u001b[38;5;28;01mTrue\u001b[39;00m)\n",
      "\u001b[0;31mIndexError\u001b[0m: list index out of range"
     ]
    }
   ],
   "source": [
    "df = pd.read_table(figures_aei_output[0], sep = ('\\s+'), names = ['time', 'i', 'a', 'e', 'inc', 'Omega', 'w', 'Theta', 'E', 'M', 'm', 'r'])\n",
    "sort = df.sort_values(by = ['a']).reset_index(drop=True)\n",
    "\n"
   ]
  },
  {
   "cell_type": "code",
   "execution_count": null,
   "metadata": {},
   "outputs": [],
   "source": [
    "def plot_aei_object(ax, object_index, size, color, data):\n",
    "    object_data = data.loc[data.i == object_index]\n",
    "    if len(object_data.index) != 0:\n",
    "        e, a = float(object_data.e), float(object_data.a)\n",
    "        a_x = np.linspace(0.3, 6., 100)\n",
    "        aphelion, perihelion = a * (1 + e), a * (1 - e)\n",
    "        eMassQ, eMassq = 1. - (aphelion / a_x), (perihelion / a_x) - 1.\n",
    "        region_data = pd.DataFrame(data = {'a': a_x, 'e': eMassQ, 'e_': eMassq})\n",
    "        ax = sns.lineplot(data = region_data, x = 'a', y = 'e', color = 'red', alpha = 0.3, zorder=10)\n",
    "        ax = sns.lineplot(data = region_data, x = 'a', y = 'e_', color = 'red', alpha = 0.3, zorder=10)\n",
    "        ax.scatter(object_data.a, object_data.e, s = size, c = color, zorder = 100)\n",
    "        \n",
    "def plot_aei_scatter(ax, sort, data):\n",
    "    temp = data.copy()\n",
    "    temp['i'] = temp['i'].replace(dict(zip(sort.i, sort.index)))\n",
    "    return sns.scatterplot(data = temp, x = 'a', y = 'e', hue = 'i', size = 'm', palette = 'viridis', legend = False, zorder=15)\n",
    "    \n",
    "def plot_Carti_object(ax, object_index, size, color, data):\n",
    "    object_data = data.loc[data.i == object_index]\n",
    "    if len(object_data.index) != 0:\n",
    "        ax.scatter(object_data.x, object_data.y, s = size, c = color, zorder = 1000)\n",
    "        \n",
    "def plot_Carti_scatter(ax, sort, data):\n",
    "    temp = data.copy()\n",
    "    temp['i'] = temp['i'].replace(dict(zip(sort.i, sort.index)))\n",
    "    ax.scatter(temp.x, temp.y, s = 10e5 * temp.r, c = temp.i, cmap = 'viridis')"
   ]
  },
  {
   "cell_type": "code",
   "execution_count": null,
   "metadata": {
    "tags": []
   },
   "outputs": [],
   "source": [
    "for step, (figure_aei, figure_Carti) in enumerate(zip(figures_aei_output, figures_Carti_output)):\n",
    "    #extract dataset from file\n",
    "    plot_aei = pd.read_table(figure_aei, sep = ('\\s+'), names = ['time', 'i', 'a', 'e', 'inc', 'Omega', 'w', 'Theta', 'E', 'M', 'm', 'r'])\n",
    "    plot_Carti = pd.read_table(figure_Carti, sep = ('\\s+'), names = ['time', 'i', 'm', 'r', 'x', 'y', 'z', 'vx', 'vy', 'vz', 'Sx', 'Sy', 'Sz', 'amin', 'amax', 'emin', 'emax', 'aecount', 'aecountT', 'enccountT', 'test'])\n",
    "    \n",
    "    #locate the heavyiest objects for perhilion and aphelion line plot\n",
    "    max_mass = plot_aei.loc[plot_aei.m == max(plot_aei.m)]\n",
    "    # print(max_mass)\n",
    "    \n",
    "    #title and time series\n",
    "    title = str(step).zfill(6)\n",
    "    time = str(int(plot_aei.time[0] / 1000000.))\n",
    "    \n",
    "    #plotting config\n",
    "    fig = plt.figure(figsize = (20, 10), dpi = 80)\n",
    "    fig.suptitle(title + ' / ' + time + ' Myr', fontsize = 16)\n",
    "    \n",
    "    #plots\n",
    "    #Left plot\n",
    "    ax = fig.add_subplot(121)\n",
    "    ax.set_xlim(0, frame_size)\n",
    "    ax.set_ylim(0, 1.)\n",
    "    ax.set_zorder(1)\n",
    "    ax.set_frame_on(False)\n",
    "    ax.grid(True)\n",
    "    ax = plot_aei_scatter(ax, sort, plot_aei)\n",
    "    \n",
    "    ax2 = ax.twinx()\n",
    "    ax2.axvspan(0, frame_size, facecolor=\"#e6e6e6\")\n",
    "    ax2 = sns.histplot(data = plot_aei, x = 'a', alpha = 0.1, weights = 'm', element = 'step', bins = 100)\n",
    "    ax2.set_yticks(np.arange(0, 5e-6, 1.e-6))\n",
    "    ax2.set_ylim(0, 5.0e-6)\n",
    "    ax2.set_zorder(0)\n",
    "        \n",
    "    #Right plot\n",
    "    ax4 = fig.add_subplot(122)\n",
    "    ax4.set_xlim(-frame_size, frame_size)\n",
    "    ax4.set_ylim(-frame_size, frame_size)\n",
    "    plot_Carti_scatter(ax4, sort, plot_Carti)\n",
    "    ax4.scatter(0, 0, s = 100, c = 'tab:red')\n",
    "    ax4.grid(False)\n",
    "    ax4.set_facecolor('gray')\n",
    "    fig_name = f'/figs/{title}.png'\n",
    "    \n",
    "    plt.show()\n",
    "    # plt.savefig(local+fig_name, dpi=300)\n",
    "    plt.close()"
   ]
  },
  {
   "cell_type": "code",
   "execution_count": null,
   "metadata": {},
   "outputs": [],
   "source": [
    "image_folder = 'figs'\n",
    "video_name = 'ae_giants.mp4'\n",
    "\n",
    "images = [img for img in sorted(os.listdir(image_folder)) if img.endswith(\".png\")]\n",
    "frame = cv2.imread(os.path.join(image_folder, images[0]))\n",
    "height, width, layers = frame.shape\n",
    "\n",
    "fourcc = cv2.VideoWriter_fourcc(*'mp4v')\n",
    "video = cv2.VideoWriter(video_name, fourcc, 20, (width,height))\n",
    "\n",
    "for image in images:\n",
    "    video.write(cv2.imread(os.path.join(image_folder, image)))\n",
    "\n",
    "cv2.destroyAllWindows()\n",
    "video.release()\n",
    "        "
   ]
  },
  {
   "cell_type": "code",
   "execution_count": null,
   "metadata": {},
   "outputs": [],
   "source": []
  }
 ],
 "metadata": {
  "kernelspec": {
   "display_name": "myenv",
   "language": "python",
   "name": "myenv"
  },
  "language_info": {
   "codemirror_mode": {
    "name": "ipython",
    "version": 3
   },
   "file_extension": ".py",
   "mimetype": "text/x-python",
   "name": "python",
   "nbconvert_exporter": "python",
   "pygments_lexer": "ipython3",
   "version": "3.8.12"
  }
 },
 "nbformat": 4,
 "nbformat_minor": 4
}
